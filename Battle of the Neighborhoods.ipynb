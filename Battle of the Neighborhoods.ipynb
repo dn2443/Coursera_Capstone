{
 "cells": [
  {
   "cell_type": "markdown",
   "metadata": {},
   "source": [
    "## Introduction\n",
    "\n",
    "Lee is an incoming graduate student slated to study at Columbia University in New York. After securing his visa and plane tickets, he now has to decide where to rent an apartment for the duration of his stay. Fortunately, he is not constrained by price, as he and his family are well-off; however, he predicts that during his stay in New York, he will likely be unable to eat non-Korean food in a regular manner. That is, it is essential that he lives in a neighborhood with a) a number of Korean restaurants and b) Korean restaurants that have been given high ratings. Since he will be studying in Upper Manhattan, renting an apartment beyond Manhattan is out of the question for Lee. In an attempt to inform his decision-making, Lee asks John to assist is looking for a neighborhood fitting Lee's requirements."
   ]
  },
  {
   "cell_type": "markdown",
   "metadata": {},
   "source": [
    "## Business Question\n",
    "\n",
    "1) Which neighborhood in Manhattan has the highest concentration of Korean restaurants?\n",
    "\n",
    "2) Which neighborhood in Manhattan has the highest-rated Korean restaurant/s?\n"
   ]
  },
  {
   "cell_type": "markdown",
   "metadata": {},
   "source": [
    "## Data\n",
    "\n",
    "1) New York neighborhood data to be collected from https://cocl.us/new_york_dataset, and filtered to use only Manhattan areas\n",
    "\n",
    "2) The number, location and ratings of Korean restaurants will be from FourSquare. After filtering for only Korean restuarants, \n",
    "\n",
    "- The two subsets of data will be merged to form one master dataset, of which will be the basis of ranking neighborhood based on Lee's requirements, as well as to visualize the resulting output for maximum impact\n"
   ]
  }
 ],
 "metadata": {
  "kernelspec": {
   "display_name": "Python 3",
   "language": "python",
   "name": "python3"
  },
  "language_info": {
   "codemirror_mode": {
    "name": "ipython",
    "version": 3
   },
   "file_extension": ".py",
   "mimetype": "text/x-python",
   "name": "python",
   "nbconvert_exporter": "python",
   "pygments_lexer": "ipython3",
   "version": "3.7.6"
  }
 },
 "nbformat": 4,
 "nbformat_minor": 4
}
